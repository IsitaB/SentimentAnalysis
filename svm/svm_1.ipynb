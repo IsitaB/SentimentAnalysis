{
 "cells": [
  {
   "cell_type": "markdown",
   "id": "impossible-serve",
   "metadata": {},
   "source": [
    "# SVM 1"
   ]
  },
  {
   "cell_type": "code",
   "execution_count": 6,
   "id": "saved-venue",
   "metadata": {},
   "outputs": [
    {
     "data": {
      "text/plain": [
       "RandomState(MT19937) at 0x7FE519835D10"
      ]
     },
     "execution_count": 6,
     "metadata": {},
     "output_type": "execute_result"
    }
   ],
   "source": [
    "import nltk\n",
    "import pickle\n",
    "import numpy as np\n",
    "import pandas as pd\n",
    "from sklearn.feature_extraction.text import TfidfVectorizer\n",
    "from sklearn import svm\n",
    "from sklearn.metrics import classification_report\n",
    "\n",
    "np.random.RandomState(228)"
   ]
  },
  {
   "cell_type": "markdown",
   "id": "domestic-notebook",
   "metadata": {},
   "source": [
    "## Natural Language Toolkit\n",
    "\n",
    "Download all packages for `nltk` if not done before."
   ]
  },
  {
   "cell_type": "code",
   "execution_count": 7,
   "id": "center-correction",
   "metadata": {},
   "outputs": [],
   "source": [
    "# nltk.download()"
   ]
  },
  {
   "cell_type": "markdown",
   "id": "capable-religious",
   "metadata": {},
   "source": [
    "## load data"
   ]
  },
  {
   "cell_type": "code",
   "execution_count": 8,
   "id": "entertaining-diameter",
   "metadata": {},
   "outputs": [
    {
     "name": "stdout",
     "output_type": "stream",
     "text": [
      "   Unnamed: 0                                       comment_text  toxic\n",
      "0           0  Explanation\\r\\nWhy the edits made under my use...      0\n",
      "1           1  D'aww! He matches this background colour I'm s...      0\n",
      "2           2  Hey man, I'm really not trying to edit war. It...      0\n",
      "3           3  \"\\r\\nMore\\r\\nI can't make any real suggestions...      0\n",
      "4           4  You, sir, are my hero. Any chance you remember...      0\n",
      "   Unnamed: 0                                       comment_text  toxic\n",
      "0           5  Thank you for understanding. I think very high...      0\n",
      "1           7                   :Dear god this site is horrible.      0\n",
      "2          11  \"::: Somebody will invariably try to add Relig...      0\n",
      "3          13  \" \\r\\n\\r\\n It says it right there that it IS a...      0\n",
      "4          14  \" \\r\\n\\r\\n == Before adding a new product to t...      0\n"
     ]
    }
   ],
   "source": [
    "df_train = pd.read_csv(\"data/mrinal_train.csv\")\n",
    "df_test = pd.read_csv(\"data/mrinal_test.csv\")\n",
    "print(df_train.head())\n",
    "print(df_test.head())"
   ]
  },
  {
   "cell_type": "code",
   "execution_count": 9,
   "id": "missing-aviation",
   "metadata": {},
   "outputs": [
    {
     "name": "stdout",
     "output_type": "stream",
     "text": [
      "                                        comment_text  toxic\n",
      "0  Explanation\\r\\nWhy the edits made under my use...      0\n",
      "1  D'aww! He matches this background colour I'm s...      0\n",
      "2  Hey man, I'm really not trying to edit war. It...      0\n",
      "3  \"\\r\\nMore\\r\\nI can't make any real suggestions...      0\n",
      "4  You, sir, are my hero. Any chance you remember...      0\n",
      "                                        comment_text  toxic\n",
      "0  Thank you for understanding. I think very high...      0\n",
      "1                   :Dear god this site is horrible.      0\n",
      "2  \"::: Somebody will invariably try to add Relig...      0\n",
      "3  \" \\r\\n\\r\\n It says it right there that it IS a...      0\n",
      "4  \" \\r\\n\\r\\n == Before adding a new product to t...      0\n"
     ]
    }
   ],
   "source": [
    "df_train = df_train.drop(labels=\"Unnamed: 0\", axis=1)\n",
    "df_test = df_test.drop(labels=\"Unnamed: 0\", axis=1)\n",
    "print(df_train.head())\n",
    "print(df_test.head())"
   ]
  },
  {
   "cell_type": "code",
   "execution_count": 10,
   "id": "minor-assault",
   "metadata": {},
   "outputs": [
    {
     "name": "stdout",
     "output_type": "stream",
     "text": [
      "\"Explanation\\r\\nWhy the edits made under my username Hardcore Metallica Fan were reverted? They weren't vandalisms, just closure on some GAs after I voted at New York Dolls FAC. And please don't remove the template from the talk page since I'm retired now.89.205.38.27\"\n",
      "\n",
      "\"D'aww! He matches this background colour I'm seemingly stuck with. Thanks.  (talk) 21:51, January 11, 2016 (UTC)\"\n"
     ]
    }
   ],
   "source": [
    "print(repr(df_train.iat[0, 0]), end=\"\\n\\n\")\n",
    "print(repr(df_train.iat[1, 0]))"
   ]
  },
  {
   "cell_type": "code",
   "execution_count": 11,
   "id": "center-candidate",
   "metadata": {},
   "outputs": [
    {
     "data": {
      "text/html": [
       "<div>\n",
       "<style scoped>\n",
       "    .dataframe tbody tr th:only-of-type {\n",
       "        vertical-align: middle;\n",
       "    }\n",
       "\n",
       "    .dataframe tbody tr th {\n",
       "        vertical-align: top;\n",
       "    }\n",
       "\n",
       "    .dataframe thead th {\n",
       "        text-align: right;\n",
       "    }\n",
       "</style>\n",
       "<table border=\"1\" class=\"dataframe\">\n",
       "  <thead>\n",
       "    <tr style=\"text-align: right;\">\n",
       "      <th></th>\n",
       "      <th>comment_text</th>\n",
       "      <th>toxic</th>\n",
       "    </tr>\n",
       "  </thead>\n",
       "  <tbody>\n",
       "    <tr>\n",
       "      <th>6</th>\n",
       "      <td>COCKSUCKER BEFORE YOU PISS AROUND ON MY WORK</td>\n",
       "      <td>1</td>\n",
       "    </tr>\n",
       "    <tr>\n",
       "      <th>12</th>\n",
       "      <td>Hey... what is it..\\r\\n@ | talk .\\r\\nWhat is i...</td>\n",
       "      <td>1</td>\n",
       "    </tr>\n",
       "    <tr>\n",
       "      <th>16</th>\n",
       "      <td>Bye! \\r\\n\\r\\nDon't look, come or think of comm...</td>\n",
       "      <td>1</td>\n",
       "    </tr>\n",
       "    <tr>\n",
       "      <th>42</th>\n",
       "      <td>You are gay or antisemmitian? \\r\\n\\r\\nArchange...</td>\n",
       "      <td>1</td>\n",
       "    </tr>\n",
       "    <tr>\n",
       "      <th>43</th>\n",
       "      <td>FUCK YOUR FILTHY MOTHER IN THE ASS, DRY!</td>\n",
       "      <td>1</td>\n",
       "    </tr>\n",
       "    <tr>\n",
       "      <th>...</th>\n",
       "      <td>...</td>\n",
       "      <td>...</td>\n",
       "    </tr>\n",
       "    <tr>\n",
       "      <th>159494</th>\n",
       "      <td>\"\\r\\n\\r\\n our previous conversation \\r\\n\\r\\nyo...</td>\n",
       "      <td>1</td>\n",
       "    </tr>\n",
       "    <tr>\n",
       "      <th>159514</th>\n",
       "      <td>YOU ARE A MISCHIEVIOUS PUBIC HAIR</td>\n",
       "      <td>1</td>\n",
       "    </tr>\n",
       "    <tr>\n",
       "      <th>159541</th>\n",
       "      <td>Your absurd edits \\r\\n\\r\\nYour absurd edits on...</td>\n",
       "      <td>1</td>\n",
       "    </tr>\n",
       "    <tr>\n",
       "      <th>159546</th>\n",
       "      <td>\"\\r\\n\\r\\nHey listen don't you ever!!!! Delete ...</td>\n",
       "      <td>1</td>\n",
       "    </tr>\n",
       "    <tr>\n",
       "      <th>159554</th>\n",
       "      <td>and i'm going to keep posting the stuff u dele...</td>\n",
       "      <td>1</td>\n",
       "    </tr>\n",
       "  </tbody>\n",
       "</table>\n",
       "<p>15294 rows × 2 columns</p>\n",
       "</div>"
      ],
      "text/plain": [
       "                                             comment_text  toxic\n",
       "6            COCKSUCKER BEFORE YOU PISS AROUND ON MY WORK      1\n",
       "12      Hey... what is it..\\r\\n@ | talk .\\r\\nWhat is i...      1\n",
       "16      Bye! \\r\\n\\r\\nDon't look, come or think of comm...      1\n",
       "42      You are gay or antisemmitian? \\r\\n\\r\\nArchange...      1\n",
       "43               FUCK YOUR FILTHY MOTHER IN THE ASS, DRY!      1\n",
       "...                                                   ...    ...\n",
       "159494  \"\\r\\n\\r\\n our previous conversation \\r\\n\\r\\nyo...      1\n",
       "159514                  YOU ARE A MISCHIEVIOUS PUBIC HAIR      1\n",
       "159541  Your absurd edits \\r\\n\\r\\nYour absurd edits on...      1\n",
       "159546  \"\\r\\n\\r\\nHey listen don't you ever!!!! Delete ...      1\n",
       "159554  and i'm going to keep posting the stuff u dele...      1\n",
       "\n",
       "[15294 rows x 2 columns]"
      ]
     },
     "execution_count": 11,
     "metadata": {},
     "output_type": "execute_result"
    }
   ],
   "source": [
    "df_train.loc[df_train[\"toxic\"] == 1]"
   ]
  },
  {
   "cell_type": "markdown",
   "id": "hidden-entity",
   "metadata": {},
   "source": [
    "## Text normalization"
   ]
  },
  {
   "cell_type": "code",
   "execution_count": 12,
   "id": "fewer-singles",
   "metadata": {},
   "outputs": [],
   "source": [
    "def normalize_text(text: str) -> str:\n",
    "    tokens = nltk.word_tokenize(text)\n",
    "    \n",
    "    # remove nonalphabetic characters\n",
    "    tokens = [w for w in tokens if w.isalpha()]\n",
    "    \n",
    "    # lowercase all text\n",
    "    tokens = [w.lower() for w in tokens]\n",
    "    \n",
    "    # remove stopwords\n",
    "    tokens = [w for w in tokens if not w in nltk.corpus.stopwords.words(\"english\")]\n",
    "    \n",
    "    # lemmatize\n",
    "    lemmatizer = nltk.WordNetLemmatizer()\n",
    "    tokens = [lemmatizer.lemmatize(w, pos=\"v\") for w in tokens]\n",
    "    tokens = [lemmatizer.lemmatize(w, pos=\"n\") for w in tokens]\n",
    "\n",
    "    return \" \".join(tokens)"
   ]
  },
  {
   "cell_type": "code",
   "execution_count": 13,
   "id": "fifty-agent",
   "metadata": {},
   "outputs": [
    {
     "data": {
      "text/plain": [
       "'explanation edit make username hardcore metallica fan revert vandalism closure gas vote new york doll fac please remove template talk page since retire'"
      ]
     },
     "execution_count": 13,
     "metadata": {},
     "output_type": "execute_result"
    }
   ],
   "source": [
    "normalize_text(df_train.iat[0, 0])"
   ]
  },
  {
   "cell_type": "code",
   "execution_count": null,
   "id": "identical-fundamentals",
   "metadata": {},
   "outputs": [],
   "source": []
  }
 ],
 "metadata": {
  "kernelspec": {
   "display_name": "sa-svm",
   "language": "python",
   "name": "sa-svm"
  },
  "language_info": {
   "codemirror_mode": {
    "name": "ipython",
    "version": 3
   },
   "file_extension": ".py",
   "mimetype": "text/x-python",
   "name": "python",
   "nbconvert_exporter": "python",
   "pygments_lexer": "ipython3",
   "version": "3.7.9"
  }
 },
 "nbformat": 4,
 "nbformat_minor": 5
}
